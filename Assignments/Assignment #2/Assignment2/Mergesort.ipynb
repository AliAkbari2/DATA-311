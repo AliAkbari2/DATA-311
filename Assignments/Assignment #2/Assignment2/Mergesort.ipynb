{
 "cells": [
  {
   "cell_type": "code",
   "execution_count": 4,
   "metadata": {},
   "outputs": [],
   "source": [
    "#Function to merge smaller arrays in to one while sorting them\n",
    "#Uses three indices variables\n",
    "#one for each half and one for the full array\n",
    "def merge(alist, lefthalf, righthalf):\n",
    "    i=0\n",
    "    j=0\n",
    "    k=0\n",
    "    while i < len(lefthalf) and j < len(righthalf):\n",
    "        if lefthalf[i] <= righthalf[j]:\n",
    "            alist[k]=lefthalf[i]\n",
    "            i=i+1\n",
    "        else:\n",
    "            alist[k]=righthalf[j]\n",
    "            j=j+1\n",
    "        k=k+1\n",
    "\n",
    "    while i < len(lefthalf):\n",
    "        alist[k]=lefthalf[i]\n",
    "        i=i+1\n",
    "        k=k+1\n",
    "\n",
    "    while j < len(righthalf):\n",
    "        alist[k]=righthalf[j]\n",
    "        j=j+1\n",
    "        k=k+1"
   ]
  },
  {
   "cell_type": "code",
   "execution_count": 5,
   "metadata": {},
   "outputs": [],
   "source": [
    "#Recursive function to keep calling it self to break the array into smaller arrays\n",
    "#Break up the left side of the array first then the right side\n",
    "#Calls merge function, with passing the left and right side of the array\n",
    "def mergeSort(array):\n",
    "    if len(array) <2:\n",
    "        return array\n",
    "    mid = len(array) // 2\n",
    "    left = array[:mid]\n",
    "    right = array[mid:]\n",
    "    mergeSort(left)\n",
    "    mergeSort(right)\n",
    "    merge(array, left, right)\n",
    "    return array"
   ]
  },
  {
   "cell_type": "code",
   "execution_count": 6,
   "metadata": {},
   "outputs": [
    {
     "name": "stdout",
     "output_type": "stream",
     "text": [
      "Please enter array elements, seperated by a space:1674.99 -3551.49 -6116.03 1015.97 2914.14 6355.63 -6819.48 -7715.91 -9464.69 -7884.66 -658.43 -4473.95 4687.82 -3604.95 -7329.57 -3723.69 -1059.57 -659.05 3934.32 -846.17 -1242.82 3373.65 -3233.21 6902.3 127.63 -3659.13 4053.88 3386.79 -7367.81 2087.53 -6021.32 -5043.01 1372.12 -7172.52 -3329.4 4417.61 7272.09 -6793.15 2912.98 1056.87 2300.61 807.1 -508.82 -2540.97 733.17 4756.03 -5712.35 665.94 2996.78 7780.16 -739.93 5178.37 -1295.37 -5267.75 -4056.72 -8693.7 -2577.11 8470.62 -5537.67 -194.65 3962.37 -7936.96 -7009.32 -1419.37 -2837.55 858.18 1103.77 2036.58 -1876.01 3905.9 4726.33 -3794.73 9401.24 4996.29 745.64 3099.64 -812.27 -1514.15 -1074.71 8782.93 -2162.88 -7145.21 -9926 1416.94 -4891.28 3926.23 2074.94 4701.17 -4170.13 -6339.3 -535.85 -3934.27 1797.01 -1032.45 -1823.26 3070.55 -3843.35 -2139.79 3604.83 -1768.97\n",
      "[-9926.0, -9464.69, -8693.7, -7936.96, -7884.66, -7715.91, -7367.81, -7329.57, -7172.52, -7145.21, -7009.32, -6819.48, -6793.15, -6339.3, -6116.03, -6021.32, -5712.35, -5537.67, -5267.75, -5043.01, -4891.28, -4473.95, -4170.13, -4056.72, -3934.27, -3843.35, -3794.73, -3723.69, -3659.13, -3604.95, -3551.49, -3329.4, -3233.21, -2837.55, -2577.11, -2540.97, -2162.88, -2139.79, -1876.01, -1823.26, -1768.97, -1514.15, -1419.37, -1295.37, -1242.82, -1074.71, -1059.57, -1032.45, -846.17, -812.27, -739.93, -659.05, -658.43, -535.85, -508.82, -194.65, 127.63, 665.94, 733.17, 745.64, 807.1, 858.18, 1015.97, 1056.87, 1103.77, 1372.12, 1416.94, 1674.99, 1797.01, 2036.58, 2074.94, 2087.53, 2300.61, 2912.98, 2914.14, 2996.78, 3070.55, 3099.64, 3373.65, 3386.79, 3604.83, 3905.9, 3926.23, 3934.32, 3962.37, 4053.88, 4417.61, 4687.82, 4701.17, 4726.33, 4756.03, 4996.29, 5178.37, 6355.63, 6902.3, 7272.09, 7780.16, 8470.62, 8782.93, 9401.24]\n",
      "0.0 seconds\n"
     ]
    }
   ],
   "source": [
    "#Main function to run the algorithm\n",
    "#Import time to calculate the run time of the program\n",
    "#Takes input from user\n",
    "#Passes input to the mergeSort function\n",
    "import time\n",
    "def main():\n",
    "        \n",
    "        try:\n",
    "            n = input(\"Please enter array elements, seperated by a space:\")\n",
    "            l = list(map(float,n.split(' ')))\n",
    "            start_time = time.time()\n",
    "            print(mergeSort(l))\n",
    "            print(\"%s seconds\" % (time.time() - start_time))\n",
    "        except ValueError:\n",
    "            main()\n",
    "main()"
   ]
  }
 ],
 "metadata": {
  "kernelspec": {
   "display_name": "Python 3",
   "language": "python",
   "name": "python3"
  },
  "language_info": {
   "codemirror_mode": {
    "name": "ipython",
    "version": 3
   },
   "file_extension": ".py",
   "mimetype": "text/x-python",
   "name": "python",
   "nbconvert_exporter": "python",
   "pygments_lexer": "ipython3",
   "version": "3.7.4"
  }
 },
 "nbformat": 4,
 "nbformat_minor": 2
}
