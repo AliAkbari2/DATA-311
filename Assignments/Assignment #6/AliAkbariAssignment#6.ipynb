{
 "cells": [
  {
   "cell_type": "code",
   "execution_count": 1,
   "metadata": {},
   "outputs": [],
   "source": [
    "##Ali Akbari 30010402\n",
    "##Data 311 Assignment#6\n",
    "##sqlite Database date to CSV file\n",
    "\n",
    "#Imports needed\n",
    "#sqlite3 to use sqlite commands\n",
    "#csv to open and write in csv formate files\n",
    "import sqlite3, csv\n",
    "#Function that takes 4 parameters\n",
    "#dbname as the database name\n",
    "#table as the table name in the database\n",
    "#csvname as the name of the file to open and write on\n",
    "#nrows of the specified number of rows to write \n",
    "def sqlite_to_csv(dbname, table, csvname, nrows = -1):\n",
    "    #Connection to the database\n",
    "    connection = sqlite3.connect(dbname)\n",
    "    cursor = connection.cursor()\n",
    "    #Use to excute a command to get a tuple list of database header info\n",
    "    getHeaderInfo = \"PRAGMA table_info(albums)\"\n",
    "    cursor.execute(getHeaderInfo)\n",
    "    seqHeader = cursor.fetchall()\n",
    "    #List to add the database headers\n",
    "    header = []\n",
    "    #Loop to add the header names\n",
    "    for i in range(len(seqHeader)):\n",
    "        header.append(seqHeader[i][1])\n",
    "    #Command to get data from table\n",
    "    query = \"SELECT * FROM \" + table\n",
    "    cursor.execute(query);\n",
    "    result = cursor.fetchall()\n",
    "    #Data is put converted into a list\n",
    "    result = list(result)\n",
    "    #Open the csv file \n",
    "    with open(csvname, 'w', newline='') as f:\n",
    "    #Writer writes to the csv file\n",
    "        writer = csv.writer(f)\n",
    "    #Write first row, which is header\n",
    "        writer.writerow(header)\n",
    "        #Loop to write the data for number of rows specified\n",
    "        if nrows != -1:\n",
    "            for i in range(nrows):\n",
    "                writer.writerow(result[i])\n",
    "        #Loop to write all rows \n",
    "        else:\n",
    "            for i in range(len(result)):\n",
    "                writer.writerow(result[i])\n",
    "    #Close the file\n",
    "        f.close()\n",
    "    #Close the connection to the database\n",
    "        connection.close()\n"
   ]
  },
  {
   "cell_type": "code",
   "execution_count": 2,
   "metadata": {},
   "outputs": [],
   "source": [
    "#Main function to call the sqlite to csv function\n",
    "def main():\n",
    "    #Use following parameters to convert the file to csv\n",
    "    sqlite_to_csv(\"chinook.db\", \"albums\", \"albums.csv\", 10)\n",
    "if __name__== \"__main__\":\n",
    "    main()"
   ]
  }
 ],
 "metadata": {
  "kernelspec": {
   "display_name": "Python 3",
   "language": "python",
   "name": "python3"
  },
  "language_info": {
   "codemirror_mode": {
    "name": "ipython",
    "version": 3
   },
   "file_extension": ".py",
   "mimetype": "text/x-python",
   "name": "python",
   "nbconvert_exporter": "python",
   "pygments_lexer": "ipython3",
   "version": "3.7.4"
  }
 },
 "nbformat": 4,
 "nbformat_minor": 2
}
